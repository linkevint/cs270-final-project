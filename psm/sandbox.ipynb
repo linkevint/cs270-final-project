{
 "cells": [
  {
   "cell_type": "code",
   "execution_count": 2,
   "metadata": {},
   "outputs": [
    {
     "name": "stdout",
     "output_type": "stream",
     "text": [
      "Collecting owlready2\n",
      "\u001b[?25l  Downloading https://files.pythonhosted.org/packages/bc/84/614db92e7009b925e57a73fa3216591d806c7aae7bd415075f0db50b8bba/Owlready2-0.36.tar.gz (23.8MB)\n",
      "\u001b[K     |████████████████████████████████| 23.8MB 7.5MB/s eta 0:00:01     |█████████████████████           | 15.6MB 7.5MB/s eta 0:00:02\n",
      "\u001b[?25hInstalling collected packages: owlready2\n",
      "    Running setup.py install for owlready2 ... \u001b[?25ldone\n",
      "\u001b[?25hSuccessfully installed owlready2-0.36\n",
      "\u001b[33mWARNING: You are using pip version 19.3.1; however, version 22.0.3 is available.\n",
      "You should consider upgrading via the 'pip install --upgrade pip' command.\u001b[0m\n"
     ]
    }
   ],
   "source": [
    "# !pip install owlready2"
   ]
  },
  {
   "cell_type": "code",
   "execution_count": 1,
   "metadata": {},
   "outputs": [
    {
     "name": "stderr",
     "output_type": "stream",
     "text": [
      "* Owlready2 * Warning: optimized Cython parser module 'owlready2_optimized' is not available, defaulting to slower Python implementation\n"
     ]
    }
   ],
   "source": [
    "from owlready2 import *"
   ]
  },
  {
   "cell_type": "code",
   "execution_count": 3,
   "metadata": {},
   "outputs": [],
   "source": [
    "onto = get_ontology(\"file:///Users/kevinlin/Documents/classes/cs270/final-project/cs270-final-project/ontology/restaurant.owl\").load()"
   ]
  },
  {
   "cell_type": "code",
   "execution_count": 4,
   "metadata": {},
   "outputs": [
    {
     "data": {
      "text/plain": [
       "[restaurants.Ambience,\n",
       " restaurants.AmericanRestaurant,\n",
       " restaurants.Restaurant,\n",
       " restaurants.AsianFusionRestaurant,\n",
       " restaurants.AsianRestaurant,\n",
       " restaurants.Business,\n",
       " restaurants.CantoneseRestaurant,\n",
       " restaurants.ChineseRestaurant,\n",
       " restaurants.CasualAmbience,\n",
       " restaurants.EastAsianRestaurant,\n",
       " restaurants.Dimsum,\n",
       " restaurants.Specialization,\n",
       " restaurants.DiveyAmbience,\n",
       " restaurants.Dumplings,\n",
       " restaurants.TaiwaneseRestaurant,\n",
       " restaurants.HakkaRestaurant,\n",
       " restaurants.HipsterAmbience,\n",
       " restaurants.HongKongStyleCafe,\n",
       " restaurants.IntimateAmbience,\n",
       " restaurants.JapaneseRestaurant,\n",
       " restaurants.KoreanRestaurant,\n",
       " restaurants.PanAsianRestaurant,\n",
       " restaurants.RomanticAmbience,\n",
       " restaurants.ShanghaineseRestaurant,\n",
       " restaurants.SingaporeanRestaurant,\n",
       " restaurants.TouristyAmbience,\n",
       " restaurants.TrendyAmbience,\n",
       " restaurants.UpscaleAmbience,\n",
       " restaurants.Vegan,\n",
       " restaurants.Vegetarian]"
      ]
     },
     "execution_count": 4,
     "metadata": {},
     "output_type": "execute_result"
    }
   ],
   "source": [
    "list(onto.classes())"
   ]
  },
  {
   "cell_type": "code",
   "execution_count": null,
   "metadata": {},
   "outputs": [],
   "source": [
    "# TODO: create instances\n",
    "\n",
    "# TODO: figure out how to create queries (i.e. given input, create necessary query to get results)\n",
    "\n",
    "# TODO: develope specific algorithms / strategies for PSM (e.g. what happens when user wants to find more results or there are no results at all)"
   ]
  }
 ],
 "metadata": {
  "kernelspec": {
   "display_name": "Python 3",
   "language": "python",
   "name": "python3"
  },
  "language_info": {
   "codemirror_mode": {
    "name": "ipython",
    "version": 3
   },
   "file_extension": ".py",
   "mimetype": "text/x-python",
   "name": "python",
   "nbconvert_exporter": "python",
   "pygments_lexer": "ipython3",
   "version": "3.7.1"
  }
 },
 "nbformat": 4,
 "nbformat_minor": 2
}
