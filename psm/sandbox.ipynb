{
 "cells": [
  {
   "cell_type": "code",
   "execution_count": 1,
   "metadata": {},
   "outputs": [],
   "source": [
    "# !pip install owlready2"
   ]
  },
  {
   "cell_type": "markdown",
   "metadata": {},
   "source": [
    "## Retrieve ontology"
   ]
  },
  {
   "cell_type": "code",
   "execution_count": 2,
   "metadata": {},
   "outputs": [
    {
     "name": "stderr",
     "output_type": "stream",
     "text": [
      "* Owlready2 * Warning: optimized Cython parser module 'owlready2_optimized' is not available, defaulting to slower Python implementation\n"
     ]
    }
   ],
   "source": [
    "from owlready2 import *\n",
    "import pandas as pd\n",
    "import json"
   ]
  },
  {
   "cell_type": "code",
   "execution_count": 3,
   "metadata": {},
   "outputs": [],
   "source": [
    "onto = get_ontology(\"file:///Users/kevinlin/Documents/classes/cs270/final-project/cs270-final-project/ontology/business.owl\").load()"
   ]
  },
  {
   "cell_type": "markdown",
   "metadata": {},
   "source": [
    "## Retrieve & prepare dataset"
   ]
  },
  {
   "cell_type": "code",
   "execution_count": 4,
   "metadata": {},
   "outputs": [],
   "source": [
    "business_pkl = '../yelp_dataset/business.pkl'"
   ]
  },
  {
   "cell_type": "code",
   "execution_count": 5,
   "metadata": {},
   "outputs": [],
   "source": [
    "business_df = pd.read_pickle(business_pkl)"
   ]
  },
  {
   "cell_type": "code",
   "execution_count": 6,
   "metadata": {},
   "outputs": [],
   "source": [
    "# retrieve businesses that have 'Restaurant' and 'Food' in 'categories'\n",
    "df = business_df[business_df['categories'].notnull()]\n",
    "df = df[df['categories'].str.contains('Restaurants')]\n",
    "df = df[df['categories'].str.contains('Food')]\n",
    "\n",
    "# parse 'attributes.DietaryRestrictions'\n",
    "df['attributes.DietaryRestrictions'] = df['attributes.DietaryRestrictions'].replace([float('nan'), 'None'], \"{'dairy-free': False, 'gluten-free': False, 'vegan': False, 'kosher': False, 'halal': False, 'soy-free': False, 'vegetarian': False}\")\n",
    "df['attributes.DietaryRestrictions'] = df['attributes.DietaryRestrictions'].str.replace(\"\\'\", \"\\\"\").str.replace(\"False\", \"\\\"False\\\"\").str.replace(\"True\", \"\\\"True\\\"\")\n",
    "df = df.join(df['attributes.DietaryRestrictions'].apply(json.loads).apply(pd.Series))\n",
    "\n",
    "# parse 'attributes.Ambience' attribute\n",
    "df['attributes.Ambience'] = df['attributes.Ambience'].replace(float('nan'), \"{'touristy': False, 'hipster': False, 'romantic': False, 'divey': False, 'intimate': False, 'trendy': False, 'upscale': False, 'classy': False, 'casual': False}\")\n",
    "df['attributes.Ambience'] = df['attributes.Ambience'].str.replace(\"\\'\", \"\\\"\").str.replace(\"False\", \"\\\"False\\\"\").str.replace(\"True\", \"\\\"True\\\"\").str.replace(\"None\", \"\\\"False\\\"\")\n",
    "df = df.join(df['attributes.Ambience'].apply(json.loads).apply(pd.Series))\n",
    "\n",
    "# ... add more as necessary"
   ]
  },
  {
   "cell_type": "code",
   "execution_count": 7,
   "metadata": {},
   "outputs": [
    {
     "data": {
      "text/plain": [
       "Index([                      'hours.Wednesday',\n",
       "              'attributes.RestaurantsDelivery',\n",
       "                      'attributes.Open24Hours',\n",
       "                      'attributes.DogsAllowed',\n",
       "                        'attributes.CoatCheck',\n",
       "                                 'postal_code',\n",
       "                          'attributes.Smoking',\n",
       "                              'hours.Thursday',\n",
       "              'attributes.DietaryRestrictions',\n",
       "                                        'city',\n",
       "                               'hours.Tuesday',\n",
       "         'attributes.RestaurantsGoodForGroups',\n",
       "                             'attributes.BYOB',\n",
       "                      'attributes.AgesAllowed',\n",
       "                                'hours.Friday',\n",
       "                                       'stars',\n",
       "                                    'latitude',\n",
       "                          'attributes.Alcohol',\n",
       "           'attributes.RestaurantsPriceRange2',\n",
       "          'attributes.RestaurantsTableService',\n",
       "                'attributes.HairSpecializesIn',\n",
       "                                 'business_id',\n",
       "        'attributes.RestaurantsCounterService',\n",
       "                          'attributes.Corkage',\n",
       "                      'attributes.GoodForKids',\n",
       "                                  'categories',\n",
       "                                        'name',\n",
       "           'attributes.BusinessAcceptsBitcoin',\n",
       "                        'attributes.HappyHour',\n",
       "             'attributes.WheelchairAccessible',\n",
       "       'attributes.BusinessAcceptsCreditCards',\n",
       "                      'attributes.BYOBCorkage',\n",
       "                                     'is_open',\n",
       "                         'attributes.Ambience',\n",
       "                                   'longitude',\n",
       "                                'hours.Monday',\n",
       "                       'attributes.BestNights',\n",
       "                              'hours.Saturday',\n",
       "                                'review_count',\n",
       "                'attributes.ByAppointmentOnly',\n",
       "                       'attributes.NoiseLevel',\n",
       "                                       'state',\n",
       "                        'attributes.DriveThru',\n",
       "                            'attributes.HasTV',\n",
       "                             'attributes.WiFi',\n",
       "                            'attributes.Music',\n",
       "                                       'hours',\n",
       "                  'attributes.BusinessParking',\n",
       "                                     'address',\n",
       "                'attributes.RestaurantsAttire',\n",
       "                                'hours.Sunday',\n",
       "                      'attributes.GoodForMeal',\n",
       "                   'attributes.GoodForDancing',\n",
       "                           'attributes.Caters',\n",
       "                 'attributes.AcceptsInsurance',\n",
       "          'attributes.RestaurantsReservations',\n",
       "                                  'attributes',\n",
       "               'attributes.RestaurantsTakeOut',\n",
       "                      'attributes.BikeParking',\n",
       "                   'attributes.OutdoorSeating',\n",
       "                                  'dairy-free',\n",
       "                                 'gluten-free',\n",
       "                                       'vegan',\n",
       "                                      'kosher',\n",
       "                                       'halal',\n",
       "                                    'soy-free',\n",
       "                                  'vegetarian',\n",
       "                                             0,\n",
       "                                      'casual',\n",
       "                                      'classy',\n",
       "                                       'divey',\n",
       "                                     'hipster',\n",
       "                                    'intimate',\n",
       "                                    'romantic',\n",
       "                                    'touristy',\n",
       "                                      'trendy',\n",
       "                                     'upscale'],\n",
       "      dtype='object')"
      ]
     },
     "execution_count": 7,
     "metadata": {},
     "output_type": "execute_result"
    }
   ],
   "source": [
    "df.columns"
   ]
  },
  {
   "cell_type": "markdown",
   "metadata": {},
   "source": [
    "## Validate dataset properties"
   ]
  },
  {
   "cell_type": "code",
   "execution_count": 8,
   "metadata": {},
   "outputs": [
    {
     "name": "stdout",
     "output_type": "stream",
     "text": [
      "[4.  4.5 3.  3.5 5.  2.5 2.  1.  1.5]\n",
      "<class 'numpy.float64'>\n"
     ]
    }
   ],
   "source": [
    "# unique values of 'stars'\n",
    "print(business_df['stars'].unique())\n",
    "print(type(business_df['stars'].unique()[0]))"
   ]
  },
  {
   "cell_type": "code",
   "execution_count": 9,
   "metadata": {},
   "outputs": [
    {
     "name": "stdout",
     "output_type": "stream",
     "text": [
      "{<class 'numpy.int64'>}\n"
     ]
    }
   ],
   "source": [
    "# check types of all 'review_count' values\n",
    "print(set([type (x) for x in business_df['review_count'].unique()]))"
   ]
  },
  {
   "cell_type": "code",
   "execution_count": 10,
   "metadata": {
    "scrolled": true
   },
   "outputs": [
    {
     "name": "stdout",
     "output_type": "stream",
     "text": [
      "{<class 'str'>}\n"
     ]
    }
   ],
   "source": [
    "# check types of all 'name' values\n",
    "print(set([type (x) for x in business_df['name'].unique()]))"
   ]
  },
  {
   "cell_type": "code",
   "execution_count": 11,
   "metadata": {},
   "outputs": [
    {
     "name": "stdout",
     "output_type": "stream",
     "text": [
      "{<class 'str'>}\n"
     ]
    }
   ],
   "source": [
    "# print(business_df['city'].unique())\n",
    "print(set([type (x) for x in business_df['city'].unique()]))"
   ]
  },
  {
   "cell_type": "code",
   "execution_count": 12,
   "metadata": {},
   "outputs": [
    {
     "name": "stdout",
     "output_type": "stream",
     "text": [
      "{<class 'numpy.float64'>}\n"
     ]
    }
   ],
   "source": [
    "print(set([type (x) for x in business_df['latitude'].unique()]))"
   ]
  },
  {
   "cell_type": "code",
   "execution_count": 13,
   "metadata": {
    "scrolled": true
   },
   "outputs": [
    {
     "name": "stdout",
     "output_type": "stream",
     "text": [
      "{<class 'numpy.float64'>}\n"
     ]
    }
   ],
   "source": [
    "print(set([type (x) for x in business_df['longitude'].unique()]))"
   ]
  },
  {
   "cell_type": "code",
   "execution_count": 14,
   "metadata": {},
   "outputs": [
    {
     "name": "stdout",
     "output_type": "stream",
     "text": [
      "{<class 'float'>, <class 'str'>}\n"
     ]
    }
   ],
   "source": [
    "print(set([type (x) for x in business_df['categories'].unique()]))"
   ]
  },
  {
   "cell_type": "code",
   "execution_count": 15,
   "metadata": {},
   "outputs": [
    {
     "name": "stdout",
     "output_type": "stream",
     "text": [
      "nan\n",
      "{<class 'float'>, <class 'str'>}\n",
      "{'touristy': False, 'hipster': False, 'romantic': False, 'divey': False, 'intimate': False, 'trendy': False, 'upscale': False, 'classy': False, 'casual': True}\n"
     ]
    }
   ],
   "source": [
    "for x in business_df['attributes.Ambience'].unique():\n",
    "    if isinstance(x, float):\n",
    "        print(x)\n",
    "print(set([type (x) for x in business_df['attributes.Ambience'].unique()]))\n",
    "print(business_df['attributes.Ambience'][0])"
   ]
  },
  {
   "cell_type": "code",
   "execution_count": 16,
   "metadata": {},
   "outputs": [
    {
     "name": "stdout",
     "output_type": "stream",
     "text": [
      "{<class 'str'>}\n"
     ]
    }
   ],
   "source": [
    "# check types of all 'name' values\n",
    "print(set([type (x) for x in business_df['name'].unique()]))"
   ]
  },
  {
   "cell_type": "code",
   "execution_count": 17,
   "metadata": {},
   "outputs": [
    {
     "name": "stdout",
     "output_type": "stream",
     "text": [
      "['2' '1' nan '3' '4' 'None' 1.0 2.0 3.0 4.0]\n",
      "<class 'float'>\n"
     ]
    }
   ],
   "source": [
    "# check values and types of all 'RestaurantsPriceRange2' values\n",
    "print(business_df['attributes.RestaurantsPriceRange2'].unique())\n",
    "print(type(business_df['attributes.RestaurantsPriceRange2'].unique()[-1])) # float or str\n",
    "\n",
    "# note: not every business has a price range!"
   ]
  },
  {
   "cell_type": "markdown",
   "metadata": {},
   "source": [
    "## Create instances"
   ]
  },
  {
   "cell_type": "code",
   "execution_count": 18,
   "metadata": {
    "scrolled": true
   },
   "outputs": [],
   "source": [
    "# loop through dataset and create instances\n",
    "i = 0\n",
    "for _, row in df.iterrows():\n",
    "    individual = onto.Business(row['business_id'], businessName=row['name'])\n",
    "    \n",
    "    # fill 'characteristic' data properties\n",
    "    individual.businessName = row['name']\n",
    "    individual.stars = row['stars']\n",
    "    individual.reviewCount = row['review_count']\n",
    "    \n",
    "    # fill 'location' data properties\n",
    "    individual.city = row['city']\n",
    "    individual.latitude = row['latitude']\n",
    "    individual.longitude = row['longitude']\n",
    "    \n",
    "    # fill in 'operations' data properties\n",
    "    hourAttributes = ['hours.Monday', 'hours.Tuesday', 'hours.Wednesday', 'hours.Thursday', 'hours.Friday', 'hours.Saturday', 'hours.Sunday']\n",
    "    dayPrefixes = ['mon', 'tues', 'wed', 'thurs', 'fri', 'sat', 'sun']\n",
    "    openProperties = [dayPrefix + 'OpenTime' for dayPrefix in dayPrefixes]\n",
    "    closeProperties = [dayPrefix + 'CloseTime' for dayPrefix in dayPrefixes]\n",
    "    for hourAttr, openProp, closeProp in zip(hourAttributes, openProperties, closeProperties):\n",
    "        hours = row[hourAttr]\n",
    "        if isinstance(hours, str):\n",
    "            openTime, closeTime = hours.split('-')\n",
    "            openHour, openMinute = [int(i) for i in openTime.split(':')]\n",
    "            closeHour, closeMinute = [int(i) for i in closeTime.split(':')]\n",
    "            setattr(individual, openProp, openHour + (openMinute * 0.01))\n",
    "            setattr(individual, closeProp, closeHour + (closeMinute * 0.01))\n",
    "    \n",
    "    # make multi-class individual (assign relevant parent classes)\n",
    "    ## categories + dietary restriction (specialization & restaurant type)\n",
    "    categories = row['categories']\n",
    "    if isinstance(categories, str):\n",
    "        categories = categories.split(', ')\n",
    "        \n",
    "        # American restaurants\n",
    "        if 'American (Traditional)' in categories:\n",
    "            individual.is_a.append(onto.TraditionalAmericanRestaurant)\n",
    "        if 'American (New)' in categories:\n",
    "            individual.is_a.append(onto.NewAmericanRestaurant)\n",
    "        if 'Cajun/Creole' in categories:\n",
    "            individual.is_a.append(onto.CajunRestaurant)\n",
    "        if 'Tex-Mex' in categories:\n",
    "            individual.is_a.append(onto.TexMexRestaurant)\n",
    "        if 'Southern' in categories:\n",
    "            individual.is_a.append(onto.SouthernRestaurant)\n",
    "        if 'Hawaiian' in categories:\n",
    "            individual.is_a.append(onto.HawaiianRestaurant)\n",
    "        \n",
    "        # Asian restaurants\n",
    "        if 'Pan Asian' in categories:\n",
    "            individual.is_a.append(onto.PanAsianRestaurant)\n",
    "        if 'Taiwanese' in categories:\n",
    "            individual.is_a.append(onto.TaiwaneseRestaurant)\n",
    "        if 'Hakka' in categories:\n",
    "            individual.is_a.append(onto.HakkaRestaurant)\n",
    "        if 'Singaporean' in categories:\n",
    "            individual.is_a.append(onto.SingaporeanRestaurant)\n",
    "        if 'Korean' in categories:\n",
    "            individual.is_a.append(onto.KoreanRestaurant)\n",
    "        if 'Japanese' in categories:\n",
    "            individual.is_a.append(onto.JapaneseRestaurant)\n",
    "        if 'Chinese' in categories:\n",
    "            individual.is_a.append(onto.ChineseRestaurant)\n",
    "        if 'Shanghainese' in categories:\n",
    "            individual.is_a.append(onto.ShanghaineseRestaurant)\n",
    "        if 'HongKongStyleCafe' in categories:\n",
    "            individual.is_a.append(onto.HongKongStyleCafe)\n",
    "        if 'Cantonese' in categories:\n",
    "            individual.is_a.append(onto.CantoneseRestaurant)\n",
    "        if 'Asian Fusion' in categories:\n",
    "            individual.is_a.append(onto.AsianFusionRestaurant)\n",
    "            \n",
    "        # Specializations\n",
    "        if 'Dumplings' in categories:\n",
    "            individual.specializesIn.append(onto.Dumplings)\n",
    "        if 'Dim Sum' in categories:\n",
    "            individual.specializesIn.append(onto.Dimsum)\n",
    "        \n",
    "        diet = row['attributes.DietaryRestrictions']\n",
    "        if 'Vegetarian' in categories or row['vegetarian'] == 'True':\n",
    "            individual.specializesIn.append(onto.Vegetarian)\n",
    "        if 'Vegan' in categories or row['vegan'] == 'True':\n",
    "            individual.specializesIn.append(onto.Vegetarian)\n",
    "        \n",
    "    ## ambience\n",
    "    if row['casual'] == 'True':\n",
    "        individual.hasAmbience.append(onto.CasualAmbience)\n",
    "    if row['classy'] == 'True':\n",
    "        individual.hasAmbience.append(onto.ClassyAmbience)\n",
    "    if row['divey'] == 'True':\n",
    "        individual.hasAmbience.append(onto.DiveyAmbience)\n",
    "    if row['hipster'] == 'True':\n",
    "        individual.hasAmbience.append(onto.HipsterAmbience)\n",
    "    if row['intimate'] == 'True':\n",
    "        individual.hasAmbience.append(onto.IntimateAmbience)\n",
    "    if row['romantic'] == 'True':\n",
    "        individual.hasAmbience.append(onto.RomanticAmbience)\n",
    "    if row['touristy'] == 'True':\n",
    "        individual.hasAmbience.append(onto.TouristyAmbience)\n",
    "    if row['trendy'] == 'True':\n",
    "        individual.hasAmbience.append(onto.TrendyAmbience)\n",
    "    if row['upscale'] == 'True':\n",
    "        individual.hasAmbience.append(onto.UpscaleAmbience)\n",
    "    \n",
    "    # debug\n",
    "    i += 1\n",
    "    if i > 1000:\n",
    "        break # full run takes a long time... save for later\n",
    "#     print(individual.__class__)\n",
    "#     print(row)\n",
    "#     break"
   ]
  },
  {
   "cell_type": "markdown",
   "metadata": {},
   "source": [
    "## Save"
   ]
  },
  {
   "cell_type": "code",
   "execution_count": 21,
   "metadata": {},
   "outputs": [],
   "source": [
    "# onto.save(file = '../ontology/businessWithInstances.owl', format = 'rdfxml')"
   ]
  },
  {
   "cell_type": "markdown",
   "metadata": {},
   "source": [
    "## Querying\n",
    "Goal: input -> best restaurants\n",
    "Generate [SPARQL queries](https://owlready2.readthedocs.io/en/latest/sparql.html)\n",
    "\n",
    "Input format:\n",
    "\n",
    "{\n",
    "\n",
    "    'latitude': double,\n",
    "    'longitude': double,\n",
    "    'city': str,\n",
    "    'day': str (Monday-Sunday),\n",
    "    'time': double (format: hour.minute),\n",
    "    'categories': [str],\n",
    "    'ambience': {\n",
    "        'casual' True/False,\n",
    "        'classy' True/False,\n",
    "        'divey' True/False,\n",
    "        'hipster' True/False,\n",
    "        'intimate' True/False,\n",
    "        'romantic' True/False,\n",
    "        'touristy' True/False,\n",
    "        'trendy' True/False,\n",
    "        'upscale' True/False,\n",
    "    },\n",
    "    'minStars': int,\n",
    "    'minReviewCount': int\n",
    "}"
   ]
  },
  {
   "cell_type": "code",
   "execution_count": 32,
   "metadata": {},
   "outputs": [
    {
     "data": {
      "text/plain": [
       "[[business.2SbmgX5eHK4EMaIJmO1qbw],\n",
       " [business.s7k9cZiNLmA9NGYJcCnMbQ],\n",
       " [business.H1TOSeQyuK-edXGWIRgG5g],\n",
       " [business.P6u9VBwU20tkfEKIlmrOTA],\n",
       " [business.3Womhy8g-3J-VREWO31d9Q],\n",
       " [business.tVNzsMS5WsEZZ0AN7r9utw],\n",
       " [business.RPnSUIZMRS5T8KsSI1dwMA],\n",
       " [business.5hbOXgrvCYsD6m3HDdX4Ug],\n",
       " [business.O0dujTET71iNknXA9Kbwfw]]"
      ]
     },
     "execution_count": 32,
     "metadata": {},
     "output_type": "execute_result"
    }
   ],
   "source": [
    "# e.g. Get all Taiwanese restaurants\n",
    "list(default_world.sparql(\"\"\"\n",
    "    SELECT ?x\n",
    "    WHERE {\n",
    "        ?x rdf:type ?type\n",
    "        ?type rdfs:subClassOf* business:TaiwaneseRestaurant\n",
    "    }\n",
    "\"\"\"))"
   ]
  },
  {
   "cell_type": "markdown",
   "metadata": {},
   "source": [
    "## Debugging / Scratch Work"
   ]
  },
  {
   "cell_type": "code",
   "execution_count": null,
   "metadata": {},
   "outputs": [],
   "source": [
    "onto['6iYb2HFDywm3zjuRg0shjw'].specializesIn"
   ]
  },
  {
   "cell_type": "code",
   "execution_count": null,
   "metadata": {},
   "outputs": [],
   "source": [
    "onto['6iYb2HFDywm3zjuRg0shjw'].sunOpenTime"
   ]
  },
  {
   "cell_type": "code",
   "execution_count": null,
   "metadata": {},
   "outputs": [],
   "source": [
    "df[['business_id', 'hours.Monday']]"
   ]
  },
  {
   "cell_type": "code",
   "execution_count": null,
   "metadata": {},
   "outputs": [],
   "source": [
    "for x in df['hours.Monday']:\n",
    "    print(x)"
   ]
  },
  {
   "cell_type": "code",
   "execution_count": null,
   "metadata": {},
   "outputs": [],
   "source": [
    "# check inconsistent classes\n",
    "list(default_world.inconsistent_classes())"
   ]
  },
  {
   "cell_type": "code",
   "execution_count": null,
   "metadata": {},
   "outputs": [],
   "source": [
    "# TODO: create instances\n",
    "\n",
    "# TODO: figure out how to create queries (i.e. given input, create necessary query to get results)\n",
    "\n",
    "# TODO: develope specific algorithms / strategies for PSM (e.g. what happens when user wants to find more results or there are no results at all)"
   ]
  }
 ],
 "metadata": {
  "kernelspec": {
   "display_name": "Python 3",
   "language": "python",
   "name": "python3"
  },
  "language_info": {
   "codemirror_mode": {
    "name": "ipython",
    "version": 3
   },
   "file_extension": ".py",
   "mimetype": "text/x-python",
   "name": "python",
   "nbconvert_exporter": "python",
   "pygments_lexer": "ipython3",
   "version": "3.7.1"
  }
 },
 "nbformat": 4,
 "nbformat_minor": 2
}
