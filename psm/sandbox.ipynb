{
 "cells": [
  {
   "cell_type": "code",
   "execution_count": 1,
   "metadata": {},
   "outputs": [],
   "source": [
    "# !pip install owlready2"
   ]
  },
  {
   "cell_type": "markdown",
   "metadata": {},
   "source": [
    "## Retrieve ontology"
   ]
  },
  {
   "cell_type": "code",
   "execution_count": 2,
   "metadata": {},
   "outputs": [
    {
     "name": "stderr",
     "output_type": "stream",
     "text": [
      "* Owlready2 * Warning: optimized Cython parser module 'owlready2_optimized' is not available, defaulting to slower Python implementation\n"
     ]
    }
   ],
   "source": [
    "from owlready2 import *\n",
    "import pandas as pd\n",
    "import json\n",
    "import math"
   ]
  },
  {
   "cell_type": "code",
   "execution_count": null,
   "metadata": {},
   "outputs": [],
   "source": [
    "# change path below to match your local copy of the .owl file you want to use"
   ]
  },
  {
   "cell_type": "code",
   "execution_count": 3,
   "metadata": {},
   "outputs": [],
   "source": [
    "onto = get_ontology(\"file:///Users/kevinlin/Documents/classes/cs270/final-project/cs270-final-project/ontology/business.owl\").load()"
   ]
  },
  {
   "cell_type": "markdown",
   "metadata": {},
   "source": [
    "## Retrieve & prepare dataset"
   ]
  },
  {
   "cell_type": "code",
   "execution_count": 4,
   "metadata": {},
   "outputs": [],
   "source": [
    "business_pkl = '../yelp_dataset/business.pkl'"
   ]
  },
  {
   "cell_type": "code",
   "execution_count": 5,
   "metadata": {},
   "outputs": [],
   "source": [
    "business_df = pd.read_pickle(business_pkl)"
   ]
  },
  {
   "cell_type": "code",
   "execution_count": 6,
   "metadata": {},
   "outputs": [],
   "source": [
    "# retrieve businesses that have 'Restaurant' and 'Food' in 'categories'\n",
    "df = business_df[business_df['categories'].notnull()]\n",
    "df = df[df['categories'].str.contains('Restaurants')]\n",
    "df = df[df['categories'].str.contains('Food')]\n",
    "\n",
    "# parse 'attributes.DietaryRestrictions'\n",
    "df['attributes.DietaryRestrictions'] = df['attributes.DietaryRestrictions'].replace([float('nan'), 'None'], \"{'dairy-free': False, 'gluten-free': False, 'vegan': False, 'kosher': False, 'halal': False, 'soy-free': False, 'vegetarian': False}\")\n",
    "df['attributes.DietaryRestrictions'] = df['attributes.DietaryRestrictions'].str.replace(\"\\'\", \"\\\"\").str.replace(\"False\", \"\\\"False\\\"\").str.replace(\"True\", \"\\\"True\\\"\")\n",
    "df = df.join(df['attributes.DietaryRestrictions'].apply(json.loads).apply(pd.Series))\n",
    "\n",
    "# parse 'attributes.Ambience' attribute\n",
    "df['attributes.Ambience'] = df['attributes.Ambience'].replace(float('nan'), \"{'touristy': False, 'hipster': False, 'romantic': False, 'divey': False, 'intimate': False, 'trendy': False, 'upscale': False, 'classy': False, 'casual': False}\")\n",
    "df['attributes.Ambience'] = df['attributes.Ambience'].str.replace(\"\\'\", \"\\\"\").str.replace(\"False\", \"\\\"False\\\"\").str.replace(\"True\", \"\\\"True\\\"\").str.replace(\"None\", \"\\\"False\\\"\")\n",
    "df = df.join(df['attributes.Ambience'].apply(json.loads).apply(pd.Series))\n",
    "\n",
    "# ... add more as necessary"
   ]
  },
  {
   "cell_type": "code",
   "execution_count": 32,
   "metadata": {},
   "outputs": [],
   "source": [
    "#df.columns"
   ]
  },
  {
   "cell_type": "code",
   "execution_count": 35,
   "metadata": {},
   "outputs": [
    {
     "data": {
      "text/html": [
       "<div>\n",
       "<style scoped>\n",
       "    .dataframe tbody tr th:only-of-type {\n",
       "        vertical-align: middle;\n",
       "    }\n",
       "\n",
       "    .dataframe tbody tr th {\n",
       "        vertical-align: top;\n",
       "    }\n",
       "\n",
       "    .dataframe thead th {\n",
       "        text-align: right;\n",
       "    }\n",
       "</style>\n",
       "<table border=\"1\" class=\"dataframe\">\n",
       "  <thead>\n",
       "    <tr style=\"text-align: right;\">\n",
       "      <th></th>\n",
       "      <th>hours.Wednesday</th>\n",
       "      <th>attributes.RestaurantsDelivery</th>\n",
       "      <th>attributes.Open24Hours</th>\n",
       "      <th>attributes.DogsAllowed</th>\n",
       "      <th>attributes.CoatCheck</th>\n",
       "      <th>postal_code</th>\n",
       "      <th>attributes.Smoking</th>\n",
       "      <th>hours.Thursday</th>\n",
       "      <th>attributes.DietaryRestrictions</th>\n",
       "      <th>city</th>\n",
       "      <th>...</th>\n",
       "      <th>0</th>\n",
       "      <th>casual</th>\n",
       "      <th>classy</th>\n",
       "      <th>divey</th>\n",
       "      <th>hipster</th>\n",
       "      <th>intimate</th>\n",
       "      <th>romantic</th>\n",
       "      <th>touristy</th>\n",
       "      <th>trendy</th>\n",
       "      <th>upscale</th>\n",
       "    </tr>\n",
       "  </thead>\n",
       "  <tbody>\n",
       "    <tr>\n",
       "      <td>0</td>\n",
       "      <td>11:0-23:0</td>\n",
       "      <td>None</td>\n",
       "      <td>NaN</td>\n",
       "      <td>False</td>\n",
       "      <td>NaN</td>\n",
       "      <td>80302</td>\n",
       "      <td>NaN</td>\n",
       "      <td>11:0-23:0</td>\n",
       "      <td>{\"dairy-free\": \"False\", \"gluten-free\": \"False\"...</td>\n",
       "      <td>Boulder</td>\n",
       "      <td>...</td>\n",
       "      <td>NaN</td>\n",
       "      <td>True</td>\n",
       "      <td>False</td>\n",
       "      <td>False</td>\n",
       "      <td>False</td>\n",
       "      <td>False</td>\n",
       "      <td>False</td>\n",
       "      <td>False</td>\n",
       "      <td>False</td>\n",
       "      <td>False</td>\n",
       "    </tr>\n",
       "    <tr>\n",
       "      <td>12</td>\n",
       "      <td>11:0-21:0</td>\n",
       "      <td>True</td>\n",
       "      <td>NaN</td>\n",
       "      <td>True</td>\n",
       "      <td>NaN</td>\n",
       "      <td>01960</td>\n",
       "      <td>NaN</td>\n",
       "      <td>11:0-21:0</td>\n",
       "      <td>{\"dairy-free\": \"False\", \"gluten-free\": \"False\"...</td>\n",
       "      <td>Peabody</td>\n",
       "      <td>...</td>\n",
       "      <td>NaN</td>\n",
       "      <td>True</td>\n",
       "      <td>False</td>\n",
       "      <td>False</td>\n",
       "      <td>False</td>\n",
       "      <td>False</td>\n",
       "      <td>False</td>\n",
       "      <td>False</td>\n",
       "      <td>False</td>\n",
       "      <td>False</td>\n",
       "    </tr>\n",
       "    <tr>\n",
       "      <td>13</td>\n",
       "      <td>11:0-18:0</td>\n",
       "      <td>False</td>\n",
       "      <td>NaN</td>\n",
       "      <td>False</td>\n",
       "      <td>NaN</td>\n",
       "      <td>32806</td>\n",
       "      <td>NaN</td>\n",
       "      <td>11:0-18:0</td>\n",
       "      <td>{\"dairy-free\": \"False\", \"gluten-free\": \"False\"...</td>\n",
       "      <td>Orlando</td>\n",
       "      <td>...</td>\n",
       "      <td>NaN</td>\n",
       "      <td>False</td>\n",
       "      <td>False</td>\n",
       "      <td>False</td>\n",
       "      <td>False</td>\n",
       "      <td>False</td>\n",
       "      <td>False</td>\n",
       "      <td>False</td>\n",
       "      <td>False</td>\n",
       "      <td>False</td>\n",
       "    </tr>\n",
       "    <tr>\n",
       "      <td>16</td>\n",
       "      <td>7:0-22:0</td>\n",
       "      <td>None</td>\n",
       "      <td>NaN</td>\n",
       "      <td>NaN</td>\n",
       "      <td>NaN</td>\n",
       "      <td>32830</td>\n",
       "      <td>NaN</td>\n",
       "      <td>7:0-22:0</td>\n",
       "      <td>{\"dairy-free\": \"False\", \"gluten-free\": \"False\"...</td>\n",
       "      <td>Orlando</td>\n",
       "      <td>...</td>\n",
       "      <td>NaN</td>\n",
       "      <td>False</td>\n",
       "      <td>False</td>\n",
       "      <td>False</td>\n",
       "      <td>False</td>\n",
       "      <td>False</td>\n",
       "      <td>False</td>\n",
       "      <td>False</td>\n",
       "      <td>False</td>\n",
       "      <td>False</td>\n",
       "    </tr>\n",
       "    <tr>\n",
       "      <td>19</td>\n",
       "      <td>NaN</td>\n",
       "      <td>True</td>\n",
       "      <td>NaN</td>\n",
       "      <td>NaN</td>\n",
       "      <td>NaN</td>\n",
       "      <td>32809</td>\n",
       "      <td>NaN</td>\n",
       "      <td>NaN</td>\n",
       "      <td>{\"dairy-free\": \"False\", \"gluten-free\": \"False\"...</td>\n",
       "      <td>Pine Castle</td>\n",
       "      <td>...</td>\n",
       "      <td>NaN</td>\n",
       "      <td>False</td>\n",
       "      <td>False</td>\n",
       "      <td>False</td>\n",
       "      <td>False</td>\n",
       "      <td>False</td>\n",
       "      <td>False</td>\n",
       "      <td>False</td>\n",
       "      <td>False</td>\n",
       "      <td>False</td>\n",
       "    </tr>\n",
       "    <tr>\n",
       "      <td>...</td>\n",
       "      <td>...</td>\n",
       "      <td>...</td>\n",
       "      <td>...</td>\n",
       "      <td>...</td>\n",
       "      <td>...</td>\n",
       "      <td>...</td>\n",
       "      <td>...</td>\n",
       "      <td>...</td>\n",
       "      <td>...</td>\n",
       "      <td>...</td>\n",
       "      <td>...</td>\n",
       "      <td>...</td>\n",
       "      <td>...</td>\n",
       "      <td>...</td>\n",
       "      <td>...</td>\n",
       "      <td>...</td>\n",
       "      <td>...</td>\n",
       "      <td>...</td>\n",
       "      <td>...</td>\n",
       "      <td>...</td>\n",
       "      <td>...</td>\n",
       "    </tr>\n",
       "    <tr>\n",
       "      <td>160535</td>\n",
       "      <td>10:0-21:0</td>\n",
       "      <td>True</td>\n",
       "      <td>NaN</td>\n",
       "      <td>NaN</td>\n",
       "      <td>NaN</td>\n",
       "      <td>43230</td>\n",
       "      <td>NaN</td>\n",
       "      <td>10:0-21:0</td>\n",
       "      <td>{\"dairy-free\": \"False\", \"gluten-free\": \"False\"...</td>\n",
       "      <td>Columbus</td>\n",
       "      <td>...</td>\n",
       "      <td>NaN</td>\n",
       "      <td>True</td>\n",
       "      <td>False</td>\n",
       "      <td>False</td>\n",
       "      <td>False</td>\n",
       "      <td>False</td>\n",
       "      <td>False</td>\n",
       "      <td>False</td>\n",
       "      <td>False</td>\n",
       "      <td>False</td>\n",
       "    </tr>\n",
       "    <tr>\n",
       "      <td>160544</td>\n",
       "      <td>11:0-21:30</td>\n",
       "      <td>True</td>\n",
       "      <td>NaN</td>\n",
       "      <td>True</td>\n",
       "      <td>NaN</td>\n",
       "      <td>32828</td>\n",
       "      <td>NaN</td>\n",
       "      <td>11:0-21:30</td>\n",
       "      <td>{\"dairy-free\": \"False\", \"gluten-free\": \"False\"...</td>\n",
       "      <td>Orlando</td>\n",
       "      <td>...</td>\n",
       "      <td>NaN</td>\n",
       "      <td>True</td>\n",
       "      <td>True</td>\n",
       "      <td>False</td>\n",
       "      <td>True</td>\n",
       "      <td>False</td>\n",
       "      <td>False</td>\n",
       "      <td>False</td>\n",
       "      <td>True</td>\n",
       "      <td>False</td>\n",
       "    </tr>\n",
       "    <tr>\n",
       "      <td>160552</td>\n",
       "      <td>8:0-17:0</td>\n",
       "      <td>NaN</td>\n",
       "      <td>NaN</td>\n",
       "      <td>NaN</td>\n",
       "      <td>NaN</td>\n",
       "      <td>02130</td>\n",
       "      <td>NaN</td>\n",
       "      <td>8:0-17:0</td>\n",
       "      <td>{\"dairy-free\": \"False\", \"gluten-free\": \"False\"...</td>\n",
       "      <td>Jamaica Plain</td>\n",
       "      <td>...</td>\n",
       "      <td>NaN</td>\n",
       "      <td>False</td>\n",
       "      <td>False</td>\n",
       "      <td>False</td>\n",
       "      <td>False</td>\n",
       "      <td>False</td>\n",
       "      <td>False</td>\n",
       "      <td>False</td>\n",
       "      <td>False</td>\n",
       "      <td>False</td>\n",
       "    </tr>\n",
       "    <tr>\n",
       "      <td>160572</td>\n",
       "      <td>10:30-21:30</td>\n",
       "      <td>True</td>\n",
       "      <td>NaN</td>\n",
       "      <td>False</td>\n",
       "      <td>NaN</td>\n",
       "      <td>32803</td>\n",
       "      <td>NaN</td>\n",
       "      <td>10:30-21:30</td>\n",
       "      <td>{\"dairy-free\": \"False\", \"gluten-free\": \"False\"...</td>\n",
       "      <td>Orlando</td>\n",
       "      <td>...</td>\n",
       "      <td>NaN</td>\n",
       "      <td>True</td>\n",
       "      <td>True</td>\n",
       "      <td>False</td>\n",
       "      <td>False</td>\n",
       "      <td>False</td>\n",
       "      <td>False</td>\n",
       "      <td>False</td>\n",
       "      <td>False</td>\n",
       "      <td>False</td>\n",
       "    </tr>\n",
       "    <tr>\n",
       "      <td>160573</td>\n",
       "      <td>11:0-23:0</td>\n",
       "      <td>False</td>\n",
       "      <td>NaN</td>\n",
       "      <td>NaN</td>\n",
       "      <td>NaN</td>\n",
       "      <td>97224</td>\n",
       "      <td>NaN</td>\n",
       "      <td>11:0-0:0</td>\n",
       "      <td>{\"dairy-free\": \"False\", \"gluten-free\": \"False\"...</td>\n",
       "      <td>Tigard</td>\n",
       "      <td>...</td>\n",
       "      <td>NaN</td>\n",
       "      <td>False</td>\n",
       "      <td>False</td>\n",
       "      <td>False</td>\n",
       "      <td>False</td>\n",
       "      <td>False</td>\n",
       "      <td>False</td>\n",
       "      <td>False</td>\n",
       "      <td>False</td>\n",
       "      <td>False</td>\n",
       "    </tr>\n",
       "  </tbody>\n",
       "</table>\n",
       "<p>21374 rows × 77 columns</p>\n",
       "</div>"
      ],
      "text/plain": [
       "       hours.Wednesday attributes.RestaurantsDelivery attributes.Open24Hours  \\\n",
       "0            11:0-23:0                           None                    NaN   \n",
       "12           11:0-21:0                           True                    NaN   \n",
       "13           11:0-18:0                          False                    NaN   \n",
       "16            7:0-22:0                           None                    NaN   \n",
       "19                 NaN                           True                    NaN   \n",
       "...                ...                            ...                    ...   \n",
       "160535       10:0-21:0                           True                    NaN   \n",
       "160544      11:0-21:30                           True                    NaN   \n",
       "160552        8:0-17:0                            NaN                    NaN   \n",
       "160572     10:30-21:30                           True                    NaN   \n",
       "160573       11:0-23:0                          False                    NaN   \n",
       "\n",
       "       attributes.DogsAllowed attributes.CoatCheck postal_code  \\\n",
       "0                       False                  NaN       80302   \n",
       "12                       True                  NaN       01960   \n",
       "13                      False                  NaN       32806   \n",
       "16                        NaN                  NaN       32830   \n",
       "19                        NaN                  NaN       32809   \n",
       "...                       ...                  ...         ...   \n",
       "160535                    NaN                  NaN       43230   \n",
       "160544                   True                  NaN       32828   \n",
       "160552                    NaN                  NaN       02130   \n",
       "160572                  False                  NaN       32803   \n",
       "160573                    NaN                  NaN       97224   \n",
       "\n",
       "       attributes.Smoking hours.Thursday  \\\n",
       "0                     NaN      11:0-23:0   \n",
       "12                    NaN      11:0-21:0   \n",
       "13                    NaN      11:0-18:0   \n",
       "16                    NaN       7:0-22:0   \n",
       "19                    NaN            NaN   \n",
       "...                   ...            ...   \n",
       "160535                NaN      10:0-21:0   \n",
       "160544                NaN     11:0-21:30   \n",
       "160552                NaN       8:0-17:0   \n",
       "160572                NaN    10:30-21:30   \n",
       "160573                NaN       11:0-0:0   \n",
       "\n",
       "                           attributes.DietaryRestrictions           city  ...  \\\n",
       "0       {\"dairy-free\": \"False\", \"gluten-free\": \"False\"...        Boulder  ...   \n",
       "12      {\"dairy-free\": \"False\", \"gluten-free\": \"False\"...        Peabody  ...   \n",
       "13      {\"dairy-free\": \"False\", \"gluten-free\": \"False\"...        Orlando  ...   \n",
       "16      {\"dairy-free\": \"False\", \"gluten-free\": \"False\"...        Orlando  ...   \n",
       "19      {\"dairy-free\": \"False\", \"gluten-free\": \"False\"...    Pine Castle  ...   \n",
       "...                                                   ...            ...  ...   \n",
       "160535  {\"dairy-free\": \"False\", \"gluten-free\": \"False\"...       Columbus  ...   \n",
       "160544  {\"dairy-free\": \"False\", \"gluten-free\": \"False\"...        Orlando  ...   \n",
       "160552  {\"dairy-free\": \"False\", \"gluten-free\": \"False\"...  Jamaica Plain  ...   \n",
       "160572  {\"dairy-free\": \"False\", \"gluten-free\": \"False\"...        Orlando  ...   \n",
       "160573  {\"dairy-free\": \"False\", \"gluten-free\": \"False\"...         Tigard  ...   \n",
       "\n",
       "          0 casual classy  divey hipster  intimate  romantic touristy trendy  \\\n",
       "0       NaN   True  False  False   False     False     False    False  False   \n",
       "12      NaN   True  False  False   False     False     False    False  False   \n",
       "13      NaN  False  False  False   False     False     False    False  False   \n",
       "16      NaN  False  False  False   False     False     False    False  False   \n",
       "19      NaN  False  False  False   False     False     False    False  False   \n",
       "...     ...    ...    ...    ...     ...       ...       ...      ...    ...   \n",
       "160535  NaN   True  False  False   False     False     False    False  False   \n",
       "160544  NaN   True   True  False    True     False     False    False   True   \n",
       "160552  NaN  False  False  False   False     False     False    False  False   \n",
       "160572  NaN   True   True  False   False     False     False    False  False   \n",
       "160573  NaN  False  False  False   False     False     False    False  False   \n",
       "\n",
       "       upscale  \n",
       "0        False  \n",
       "12       False  \n",
       "13       False  \n",
       "16       False  \n",
       "19       False  \n",
       "...        ...  \n",
       "160535   False  \n",
       "160544   False  \n",
       "160552   False  \n",
       "160572   False  \n",
       "160573   False  \n",
       "\n",
       "[21374 rows x 77 columns]"
      ]
     },
     "execution_count": 35,
     "metadata": {},
     "output_type": "execute_result"
    }
   ],
   "source": [
    "df"
   ]
  },
  {
   "cell_type": "markdown",
   "metadata": {},
   "source": [
    "## Validate dataset properties"
   ]
  },
  {
   "cell_type": "code",
   "execution_count": 8,
   "metadata": {},
   "outputs": [
    {
     "name": "stdout",
     "output_type": "stream",
     "text": [
      "[4.  4.5 3.  3.5 5.  2.5 2.  1.  1.5]\n",
      "<class 'numpy.float64'>\n"
     ]
    }
   ],
   "source": [
    "# unique values of 'stars'\n",
    "print(business_df['stars'].unique())\n",
    "print(type(business_df['stars'].unique()[0]))"
   ]
  },
  {
   "cell_type": "code",
   "execution_count": 9,
   "metadata": {},
   "outputs": [
    {
     "name": "stdout",
     "output_type": "stream",
     "text": [
      "{<class 'numpy.int64'>}\n"
     ]
    }
   ],
   "source": [
    "# check types of all 'review_count' values\n",
    "print(set([type (x) for x in business_df['review_count'].unique()]))"
   ]
  },
  {
   "cell_type": "code",
   "execution_count": 10,
   "metadata": {
    "scrolled": true
   },
   "outputs": [
    {
     "name": "stdout",
     "output_type": "stream",
     "text": [
      "{<class 'str'>}\n"
     ]
    }
   ],
   "source": [
    "# check types of all 'name' values\n",
    "print(set([type (x) for x in business_df['name'].unique()]))"
   ]
  },
  {
   "cell_type": "code",
   "execution_count": 33,
   "metadata": {},
   "outputs": [
    {
     "name": "stdout",
     "output_type": "stream",
     "text": [
      "{<class 'str'>}\n"
     ]
    }
   ],
   "source": [
    "#print(business_df['hours.Monday'].unique())\n",
    "print(set([type (x) for x in business_df['city'].unique()]))"
   ]
  },
  {
   "cell_type": "code",
   "execution_count": 12,
   "metadata": {},
   "outputs": [
    {
     "name": "stdout",
     "output_type": "stream",
     "text": [
      "{<class 'numpy.float64'>}\n"
     ]
    }
   ],
   "source": [
    "print(set([type (x) for x in business_df['latitude'].unique()]))"
   ]
  },
  {
   "cell_type": "code",
   "execution_count": 13,
   "metadata": {
    "scrolled": true
   },
   "outputs": [
    {
     "name": "stdout",
     "output_type": "stream",
     "text": [
      "{<class 'numpy.float64'>}\n"
     ]
    }
   ],
   "source": [
    "print(set([type (x) for x in business_df['longitude'].unique()]))"
   ]
  },
  {
   "cell_type": "code",
   "execution_count": 14,
   "metadata": {},
   "outputs": [
    {
     "name": "stdout",
     "output_type": "stream",
     "text": [
      "{<class 'float'>, <class 'str'>}\n"
     ]
    }
   ],
   "source": [
    "print(set([type (x) for x in business_df['categories'].unique()]))"
   ]
  },
  {
   "cell_type": "code",
   "execution_count": 15,
   "metadata": {},
   "outputs": [
    {
     "name": "stdout",
     "output_type": "stream",
     "text": [
      "nan\n",
      "{<class 'float'>, <class 'str'>}\n",
      "{'touristy': False, 'hipster': False, 'romantic': False, 'divey': False, 'intimate': False, 'trendy': False, 'upscale': False, 'classy': False, 'casual': True}\n"
     ]
    }
   ],
   "source": [
    "for x in business_df['attributes.Ambience'].unique():\n",
    "    if isinstance(x, float):\n",
    "        print(x)\n",
    "print(set([type (x) for x in business_df['attributes.Ambience'].unique()]))\n",
    "print(business_df['attributes.Ambience'][0])"
   ]
  },
  {
   "cell_type": "code",
   "execution_count": 16,
   "metadata": {},
   "outputs": [
    {
     "name": "stdout",
     "output_type": "stream",
     "text": [
      "{<class 'str'>}\n"
     ]
    }
   ],
   "source": [
    "# check types of all 'name' values\n",
    "print(set([type (x) for x in business_df['name'].unique()]))"
   ]
  },
  {
   "cell_type": "code",
   "execution_count": 17,
   "metadata": {},
   "outputs": [
    {
     "name": "stdout",
     "output_type": "stream",
     "text": [
      "['2' '1' nan '3' '4' 'None' 1.0 2.0 3.0 4.0]\n",
      "<class 'float'>\n"
     ]
    }
   ],
   "source": [
    "# check values and types of all 'RestaurantsPriceRange2' values\n",
    "print(business_df['attributes.RestaurantsPriceRange2'].unique())\n",
    "print(type(business_df['attributes.RestaurantsPriceRange2'].unique()[-1])) # float or str\n",
    "\n",
    "# note: not every business has a price range!"
   ]
  },
  {
   "cell_type": "markdown",
   "metadata": {},
   "source": [
    "## Create instances"
   ]
  },
  {
   "cell_type": "code",
   "execution_count": 34,
   "metadata": {},
   "outputs": [
    {
     "data": {
      "text/plain": [
       "business.Business"
      ]
     },
     "execution_count": 34,
     "metadata": {},
     "output_type": "execute_result"
    }
   ],
   "source": [
    "onto.Business"
   ]
  },
  {
   "cell_type": "code",
   "execution_count": 37,
   "metadata": {},
   "outputs": [
    {
     "data": {
      "text/plain": [
       "business.CajunRestaurant"
      ]
     },
     "execution_count": 37,
     "metadata": {},
     "output_type": "execute_result"
    }
   ],
   "source": [
    "onto['CajunRestaurant']"
   ]
  },
  {
   "cell_type": "code",
   "execution_count": 18,
   "metadata": {
    "scrolled": true
   },
   "outputs": [],
   "source": [
    "# loop through dataset and create instances\n",
    "i = 0\n",
    "for _, row in df.iterrows():\n",
    "    individual = onto.Business(row['business_id'])\n",
    "    \n",
    "    # fill 'characteristic' data properties\n",
    "    individual.businessName = row['name']\n",
    "    individual.stars = row['stars']\n",
    "    individual.reviewCount = row['review_count']\n",
    "    \n",
    "    # fill 'location' data properties\n",
    "    individual.city = row['city']\n",
    "    individual.latitude = row['latitude']\n",
    "    individual.longitude = row['longitude']\n",
    "    ## min/max lat/long for places within 100km of business\n",
    "    r = 100 / 6371\n",
    "    lat_rad = math.radians(row['latitude'])\n",
    "    long_rad = math.radians(row['longitude'])\n",
    "    individual.minLat = math.degrees(lat_rad - r)\n",
    "    individual.maxLat = math.degrees(lat_rad + r)\n",
    "    d_lon = math.asin(math.sin(r) / math.cos(lat_rad))\n",
    "    individual.minLon = math.degrees(long_rad - d_lon)\n",
    "    individual.maxLon = math.degrees(long_rad + d_lon)\n",
    "    \n",
    "    # fill in 'operations' data properties\n",
    "    hourAttributes = ['hours.Monday', 'hours.Tuesday', 'hours.Wednesday', 'hours.Thursday', 'hours.Friday', 'hours.Saturday', 'hours.Sunday']\n",
    "    dayPrefixes = ['mon', 'tues', 'wed', 'thurs', 'fri', 'sat', 'sun']\n",
    "    openProperties = [dayPrefix + 'OpenTime' for dayPrefix in dayPrefixes]\n",
    "    closeProperties = [dayPrefix + 'CloseTime' for dayPrefix in dayPrefixes]\n",
    "    for hourAttr, openProp, closeProp in zip(hourAttributes, openProperties, closeProperties):\n",
    "        hours = row[hourAttr]\n",
    "        if isinstance(hours, str):\n",
    "            openTime, closeTime = hours.split('-')\n",
    "            openHour, openMinute = [int(i) for i in openTime.split(':')]\n",
    "            closeHour, closeMinute = [int(i) for i in closeTime.split(':')]\n",
    "            setattr(individual, openProp, openHour + (openMinute * 0.01))\n",
    "            # handle next day scenario\n",
    "            if closeHour < openHour:\n",
    "                setattr(individual, closeProp, 23.59)\n",
    "            else:\n",
    "                setattr(individual, closeProp, closeHour + (closeMinute * 0.01))\n",
    "    \n",
    "    # make multi-class individual (assign relevant parent classes)\n",
    "    ## categories + dietary restriction (specialization & restaurant type)\n",
    "    categories = row['categories']\n",
    "    if isinstance(categories, str):\n",
    "        categories = categories.split(', ')\n",
    "        \n",
    "        # American restaurants\n",
    "        if 'American (Traditional)' in categories:\n",
    "            individual.is_a.append(onto.TraditionalAmericanRestaurant)\n",
    "        if 'American (New)' in categories:\n",
    "            individual.is_a.append(onto.NewAmericanRestaurant)\n",
    "        if 'Cajun/Creole' in categories:\n",
    "            individual.is_a.append(onto.CajunRestaurant)\n",
    "        if 'Tex-Mex' in categories:\n",
    "            individual.is_a.append(onto.TexMexRestaurant)\n",
    "        if 'Southern' in categories:\n",
    "            individual.is_a.append(onto.SouthernRestaurant)\n",
    "        if 'Hawaiian' in categories:\n",
    "            individual.is_a.append(onto.HawaiianRestaurant)\n",
    "        \n",
    "        # Asian restaurants\n",
    "        if 'Pan Asian' in categories:\n",
    "            individual.is_a.append(onto.PanAsianRestaurant)\n",
    "        if 'Taiwanese' in categories:\n",
    "            individual.is_a.append(onto.TaiwaneseRestaurant)\n",
    "        if 'Hakka' in categories:\n",
    "            individual.is_a.append(onto.HakkaRestaurant)\n",
    "        if 'Singaporean' in categories:\n",
    "            individual.is_a.append(onto.SingaporeanRestaurant)\n",
    "        if 'Korean' in categories:\n",
    "            individual.is_a.append(onto.KoreanRestaurant)\n",
    "        if 'Japanese' in categories:\n",
    "            individual.is_a.append(onto.JapaneseRestaurant)\n",
    "        if 'Chinese' in categories:\n",
    "            individual.is_a.append(onto.ChineseRestaurant)\n",
    "        if 'Shanghainese' in categories:\n",
    "            individual.is_a.append(onto.ShanghaineseRestaurant)\n",
    "        if 'HongKongStyleCafe' in categories:\n",
    "            individual.is_a.append(onto.HongKongStyleCafe)\n",
    "        if 'Cantonese' in categories:\n",
    "            individual.is_a.append(onto.CantoneseRestaurant)\n",
    "        if 'Asian Fusion' in categories:\n",
    "            individual.is_a.append(onto.AsianFusionRestaurant)\n",
    "            \n",
    "        # Specializations\n",
    "        if 'Dumplings' in categories:\n",
    "            individual.specializesIn.append(onto.Dumplings)\n",
    "        if 'Dim Sum' in categories:\n",
    "            individual.specializesIn.append(onto.Dimsum)\n",
    "        \n",
    "        diet = row['attributes.DietaryRestrictions']\n",
    "        if 'Vegetarian' in categories or row['vegetarian'] == 'True':\n",
    "            individual.specializesIn.append(onto.Vegetarian)\n",
    "        if 'Vegan' in categories or row['vegan'] == 'True':\n",
    "            individual.specializesIn.append(onto.Vegetarian)\n",
    "        \n",
    "    ## ambience\n",
    "    if row['casual'] == 'True':\n",
    "        individual.hasAmbience.append(onto.CasualAmbience)\n",
    "    if row['classy'] == 'True':\n",
    "        individual.hasAmbience.append(onto.ClassyAmbience)\n",
    "    if row['divey'] == 'True':\n",
    "        individual.hasAmbience.append(onto.DiveyAmbience)\n",
    "    if row['hipster'] == 'True':\n",
    "        individual.hasAmbience.append(onto.HipsterAmbience)\n",
    "    if row['intimate'] == 'True':\n",
    "        individual.hasAmbience.append(onto.IntimateAmbience)\n",
    "    if row['romantic'] == 'True':\n",
    "        individual.hasAmbience.append(onto.RomanticAmbience)\n",
    "    if row['touristy'] == 'True':\n",
    "        individual.hasAmbience.append(onto.TouristyAmbience)\n",
    "    if row['trendy'] == 'True':\n",
    "        individual.hasAmbience.append(onto.TrendyAmbience)\n",
    "    if row['upscale'] == 'True':\n",
    "        individual.hasAmbience.append(onto.UpscaleAmbience)\n",
    "    \n",
    "    # debug\n",
    "    i += 1\n",
    "    if i > 1000:\n",
    "        break # full run takes a long time... save for later\n",
    "#     print(individual.__class__)\n",
    "#     print(row)\n",
    "#     break"
   ]
  },
  {
   "cell_type": "markdown",
   "metadata": {},
   "source": [
    "## Save"
   ]
  },
  {
   "cell_type": "code",
   "execution_count": 19,
   "metadata": {},
   "outputs": [],
   "source": [
    "#onto.save(file = '../ontology/businessWithInstances.owl', format = 'rdfxml')"
   ]
  },
  {
   "cell_type": "markdown",
   "metadata": {},
   "source": [
    "## Querying\n",
    "Goal: input -> best restaurants\n",
    "Geerate [SPARQL queries](https://owlready2.readthedocs.io/en/latest/sparql.html)\n",
    "\n",
    "[SPARQL documentation](https://www.w3.org/TR/sparql11-query/)\n",
    "\n",
    "Input format:\n",
    "\n",
    "`\n",
    "{\n",
    "    \"lat\": double,\n",
    "    \"lon\": double,\n",
    "    \"day\": str ('mon'...'sun'),\n",
    "    \"time\": double (format: hour.minute e.g. 11.45),\n",
    "    \"categories\": list of categories,\n",
    "    \"ambiences\": list of Ambience classes,\n",
    "    \"minStars\": double,\n",
    "    \"minReviewCount\" = int\n",
    "}\n",
    "`"
   ]
  },
  {
   "cell_type": "markdown",
   "metadata": {},
   "source": [
    "### Querying Experimentation"
   ]
  },
  {
   "cell_type": "code",
   "execution_count": 20,
   "metadata": {},
   "outputs": [
    {
     "data": {
      "text/plain": [
       "[[business.RomanticAmbience]]"
      ]
     },
     "execution_count": 20,
     "metadata": {},
     "output_type": "execute_result"
    }
   ],
   "source": [
    "list(default_world.sparql(\"\"\"\n",
    "    SELECT ?x\n",
    "    WHERE {\n",
    "        ?x rdfs:subClassOf* business:RomanticAmbience\n",
    "    }\n",
    "\"\"\"))"
   ]
  },
  {
   "cell_type": "code",
   "execution_count": 21,
   "metadata": {},
   "outputs": [
    {
     "data": {
      "text/plain": [
       "[[business.2SbmgX5eHK4EMaIJmO1qbw],\n",
       " [business.s7k9cZiNLmA9NGYJcCnMbQ],\n",
       " [business.H1TOSeQyuK-edXGWIRgG5g],\n",
       " [business.P6u9VBwU20tkfEKIlmrOTA],\n",
       " [business.3Womhy8g-3J-VREWO31d9Q],\n",
       " [business.tVNzsMS5WsEZZ0AN7r9utw],\n",
       " [business.RPnSUIZMRS5T8KsSI1dwMA],\n",
       " [business.5hbOXgrvCYsD6m3HDdX4Ug],\n",
       " [business.O0dujTET71iNknXA9Kbwfw]]"
      ]
     },
     "execution_count": 21,
     "metadata": {},
     "output_type": "execute_result"
    }
   ],
   "source": [
    "list(default_world.sparql(\"\"\"\n",
    "    SELECT ?x\n",
    "    WHERE {\n",
    "        ?x rdf:type ?type\n",
    "        ?type rdfs:subClassOf* business:Restaurant\n",
    "        ?type rdfs:subClassOf* business:TaiwaneseRestaurant\n",
    "    }\n",
    "\"\"\"))"
   ]
  },
  {
   "cell_type": "code",
   "execution_count": 22,
   "metadata": {
    "scrolled": true
   },
   "outputs": [
    {
     "data": {
      "text/plain": [
       "[]"
      ]
     },
     "execution_count": 22,
     "metadata": {},
     "output_type": "execute_result"
    }
   ],
   "source": [
    "# example template\n",
    "list(default_world.sparql(\"\"\"\n",
    "    SELECT ?x ?businessName\n",
    "    WHERE {\n",
    "        ?x rdf:type ?type\n",
    "        ?type rdfs:subClassOf* business:TaiwaneseRestaurant\n",
    "        \n",
    "        ?x business:businessName ?businessName\n",
    "        \n",
    "        ?x business:minLat ?minLat\n",
    "        ?x business:maxLat ?maxLat\n",
    "        ?x business:minLon ?minLon\n",
    "        ?x business:maxLon ?maxLon\n",
    "        FILTER (49 < ?maxLat && 49 > ?minLat && -123 < ?maxLon && -123 > ?minLon)\n",
    "        \n",
    "        ?x business:monOpenTime ?openTime\n",
    "        ?x business:monCloseTime ?closeTime\n",
    "        FILTER (11.45 > ?openTime && 11.45 < ?closeTime)\n",
    "        \n",
    "        ?x business:stars ?stars\n",
    "        ?x business:reviewCount ?reviewCount\n",
    "        FILTER (?stars > 2.0 && ?reviewCount > 0)\n",
    "        \n",
    "        ?x business:hasAmbience business:CasualAmbience\n",
    "        ?x business:hasAmbience business:RomanticAmbience\n",
    "    }\n",
    "\"\"\"))"
   ]
  },
  {
   "cell_type": "markdown",
   "metadata": {},
   "source": [
    "### Querying Template"
   ]
  },
  {
   "cell_type": "code",
   "execution_count": 53,
   "metadata": {},
   "outputs": [
    {
     "name": "stdout",
     "output_type": "stream",
     "text": [
      "SELECT ?x\n",
      "WHERE {\n",
      "\t?x rdf:type ?type\n",
      "\t?x business:businessName ?businessName\n",
      "\t?x business:monOpenTime ?openTime\n",
      "\t?x business:monCloseTime ?closeTime\n",
      "\tFILTER (11.45 > ?openTime && 11.45 < ?closeTime)\n",
      "\t?x business:stars ?stars\n",
      "\tFILTER(?stars > 2.0)\n",
      "\t?x business:reviewCount ?reviewCount\n",
      "\tFILTER(?reviewCount > 1)\n",
      "\t?type rdfs:subClassOf* business:TaiwaneseRestaurant\n",
      "}\n"
     ]
    },
    {
     "data": {
      "text/plain": [
       "[[business.H1TOSeQyuK-edXGWIRgG5g],\n",
       " [business.RPnSUIZMRS5T8KsSI1dwMA],\n",
       " [business.5hbOXgrvCYsD6m3HDdX4Ug],\n",
       " [business.O0dujTET71iNknXA9Kbwfw]]"
      ]
     },
     "execution_count": 53,
     "metadata": {},
     "output_type": "execute_result"
    }
   ],
   "source": [
    "# lat = 42.0\n",
    "# lon = -123.0\n",
    "lat = None\n",
    "lon = None\n",
    "day = 'mon'\n",
    "time = 11.45\n",
    "categories = ['TaiwaneseRestaurant']\n",
    "ambiences = []\n",
    "minStars = 2.0\n",
    "minReviewCount = 1\n",
    "\n",
    "# json = parse(json that nicholas gives us)\n",
    "# lat, lon ,day ... = json\n",
    "# lat = json['lat']\n",
    "\n",
    "query = \"SELECT ?x\\nWHERE {\\n\\t?x rdf:type ?type\\n\\t?x business:businessName ?businessName\\n\"\n",
    "if lat is not None and lon is not None:\n",
    "    query += \"\\t?x business:minLat ?minLat\\n\\t?x business:maxLat ?maxLat\\n\\t?x business:minLon ?minLon\\n\\t?x business:maxLon ?maxLon\\n\"\n",
    "    query += \"\\tFILTER (\" + str(lat) + \" < ?maxLat && \" + str(lat) + \" > ?minLat && \" + str(lon) + \" < ?maxLon && \" + str(lon) + \" > ?minLon)\\n\"\n",
    "if day is not None and time is not None:\n",
    "    query += \"\\t?x business:\" + day + \"OpenTime ?openTime\\n\\t?x business:\" + day + \"CloseTime ?closeTime\\n\"\n",
    "    query += \"\\tFILTER (\" + str(time) + \" > ?openTime && \" + str(time) + \" < ?closeTime)\\n\"\n",
    "if minStars is not None:\n",
    "    query += \"\\t?x business:stars ?stars\\n\\tFILTER(?stars > \" + str(minStars) + \")\\n\"\n",
    "if minReviewCount is not None:\n",
    "    query += \"\\t?x business:reviewCount ?reviewCount\\n\\tFILTER(?reviewCount > \" + str(minReviewCount) + \")\\n\"\n",
    "if len(categories) > 0:\n",
    "    for cat in categories:\n",
    "        \"\"\"\n",
    "        if cat in dishes:\n",
    "            query += \"\\t?x business:hasDish\" + cat + \"\\n\"\n",
    "        elif cat in \n",
    "        \"\"\"\n",
    "        query += \"\\t?type rdfs:subClassOf* business:\" + cat + \"\\n\"\n",
    "if len(ambiences) > 0:\n",
    "    for amb in ambiences:\n",
    "        query += \"\\t?x business:hasAmbience business:\" + amb + \"\\n\"\n",
    "\n",
    "query += \"}\"\n",
    "\n",
    "print(query)\n",
    "results = list(default_world.sparql(query))\n",
    "print(results)\n",
    "\n",
    "\"\"\"\n",
    "while len(results) < 10:\n",
    "    # run the query\n",
    "    # before: modify the constraints (e.g. categories.append(children of ancestors))\n",
    "    # lower minStars\n",
    "    # lower minReviewCount\n",
    "    # etc.\n",
    "    results.append(# run the query)\n",
    "\"\"\""
   ]
  },
  {
   "cell_type": "code",
   "execution_count": null,
   "metadata": {},
   "outputs": [],
   "source": [
    "# TODO: develope specific algorithms / strategies for PSM\n",
    "# (e.g. what happens when user wants to find more results or there are no results at all)"
   ]
  },
  {
   "cell_type": "code",
   "execution_count": 49,
   "metadata": {},
   "outputs": [
    {
     "name": "stdout",
     "output_type": "stream",
     "text": [
      "[business.ChineseRestaurant, business.TaiwaneseRestaurant]\n"
     ]
    }
   ],
   "source": [
    "# get direct parent classes\n",
    "parents = []\n",
    "targetClass = onto.HakkaRestaurant\n",
    "for ancestor in targetClass.ancestors():\n",
    "    if targetClass in list(ancestor.subclasses()):\n",
    "        parents.append(ancestor)\n",
    "print(parents)"
   ]
  },
  {
   "cell_type": "code",
   "execution_count": 50,
   "metadata": {},
   "outputs": [
    {
     "name": "stdout",
     "output_type": "stream",
     "text": [
      "[business.CantoneseRestaurant, business.HakkaRestaurant, business.HongKongStyleCafe, business.ShanghaineseRestaurant]\n",
      "[business.HakkaRestaurant]\n"
     ]
    }
   ],
   "source": [
    "# get children of direct parent classes\n",
    "for parent in parents:\n",
    "    print(list(parent.subclasses()))"
   ]
  },
  {
   "cell_type": "markdown",
   "metadata": {},
   "source": [
    "## Debugging / Scratch Work"
   ]
  },
  {
   "cell_type": "code",
   "execution_count": 28,
   "metadata": {},
   "outputs": [
    {
     "data": {
      "text/plain": [
       "[]"
      ]
     },
     "execution_count": 28,
     "metadata": {},
     "output_type": "execute_result"
    }
   ],
   "source": [
    "# check inconsistent classes\n",
    "list(default_world.inconsistent_classes())"
   ]
  },
  {
   "cell_type": "code",
   "execution_count": 31,
   "metadata": {},
   "outputs": [],
   "source": []
  },
  {
   "cell_type": "code",
   "execution_count": null,
   "metadata": {},
   "outputs": [],
   "source": []
  }
 ],
 "metadata": {
  "kernelspec": {
   "display_name": "Python 3",
   "language": "python",
   "name": "python3"
  },
  "language_info": {
   "codemirror_mode": {
    "name": "ipython",
    "version": 3
   },
   "file_extension": ".py",
   "mimetype": "text/x-python",
   "name": "python",
   "nbconvert_exporter": "python",
   "pygments_lexer": "ipython3",
   "version": "3.7.1"
  }
 },
 "nbformat": 4,
 "nbformat_minor": 2
}
